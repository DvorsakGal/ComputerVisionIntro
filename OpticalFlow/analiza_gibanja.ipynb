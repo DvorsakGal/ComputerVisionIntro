{
 "cells": [
  {
   "cell_type": "markdown",
   "id": "1edabf59-5275-481a-bd98-3738ef16e432",
   "metadata": {},
   "source": [
    "# Analiza gibanja - zaporedje slik"
   ]
  },
  {
   "cell_type": "markdown",
   "id": "7fb8a3ab-b5fe-47cc-b17c-f1e3b5a903d0",
   "metadata": {},
   "source": [
    "## Importi"
   ]
  },
  {
   "cell_type": "code",
   "execution_count": 2,
   "id": "6f417f46-2be0-400b-ac88-5664fbb7153a",
   "metadata": {},
   "outputs": [],
   "source": [
    "%matplotlib qtagg"
   ]
  },
  {
   "cell_type": "code",
   "execution_count": 1,
   "id": "fa70970d-053c-40b0-a58b-689a073bf8df",
   "metadata": {},
   "outputs": [],
   "source": [
    "import pathlib\n",
    "import numpy as np\n",
    "import matplotlib.pyplot as plt\n",
    "import cv2\n",
    "import skimage.registration as skreg\n",
    "import pathlib\n",
    "import os"
   ]
  },
  {
   "cell_type": "markdown",
   "id": "950c632c-1283-4a33-a35c-fef6ac89d49e",
   "metadata": {},
   "source": [
    "## Branje videoposnetkov"
   ]
  },
  {
   "cell_type": "code",
   "execution_count": 37,
   "id": "968b495d-3150-4cb7-bffb-8ef86e8eb0d2",
   "metadata": {},
   "outputs": [],
   "source": [
    "# nalaganje in predvajanje z matplotlib\n",
    "pot_do_posnetka = pathlib.Path('./data/vid1/')\n",
    "slike_poti = pot_do_posnetka.glob('frame*.jpg')\n",
    "# te posnetke lahko uredimo po abecednem vrstnem redu, da dobimo ustrezno video sekvenco\n",
    "slike_poti = sorted(slike_poti)\n",
    "plt.figure()\n",
    "video_seq = []\n",
    "for pot in slike_poti:\n",
    "    slika = plt.imread(pot)\n",
    "    video_seq.append(slika)\n",
    "\n",
    "    plt.clf()\n",
    "    plt.imshow(slika)\n",
    "    plt.draw()\n",
    "    plt.waitforbuttonpress(0.01)\n",
    "    \n",
    "plt.close('all')\n",
    "video = np.array(video_seq)"
   ]
  },
  {
   "cell_type": "code",
   "execution_count": 3,
   "id": "14cc5ead-f60c-4945-9de2-390ef4cb42be",
   "metadata": {},
   "outputs": [],
   "source": [
    "# nalaganje in predvajanje z matplotlib\n",
    "pot_do_posnetka = pathlib.Path('./data/porocilo_drugi_video/')\n",
    "slike_poti = pot_do_posnetka.glob('frame*.jpg')\n",
    "# te posnetke lahko uredimo po abecednem vrstnem redu, da dobimo ustrezno video sekvenco\n",
    "slike_poti = sorted(slike_poti)\n",
    "plt.figure()\n",
    "video_seq = []\n",
    "for pot in slike_poti:\n",
    "    slika = plt.imread(pot)\n",
    "    video_seq.append(slika)\n",
    "\n",
    "    plt.clf()\n",
    "    plt.imshow(slika)\n",
    "    plt.draw()\n",
    "    plt.waitforbuttonpress(0.01)\n",
    "    \n",
    "plt.close('all')\n",
    "video = np.array(video_seq)"
   ]
  },
  {
   "cell_type": "code",
   "execution_count": 20,
   "id": "56a1e1f9-539b-47fb-bf3a-f2921384cdad",
   "metadata": {},
   "outputs": [
    {
     "data": {
      "text/plain": [
       "((121, 180, 180, 3), dtype('uint8'))"
      ]
     },
     "execution_count": 20,
     "metadata": {},
     "output_type": "execute_result"
    }
   ],
   "source": [
    "video.shape, video.dtype"
   ]
  },
  {
   "cell_type": "code",
   "execution_count": 35,
   "id": "6071775a-87d9-45db-ad36-7442c4615e75",
   "metadata": {},
   "outputs": [
    {
     "name": "stdout",
     "output_type": "stream",
     "text": [
      "float32\n"
     ]
    }
   ],
   "source": [
    "# če bi želeli narediti biti izredno računsko in prostorsko učinkoviti, bi večino časa uporabljali celoštevilske tipe kot je uint8\n",
    "# vendar moramo potem biti izredno previdni katere izračune opravljamo in pogosto pretvarjati med tipi\n",
    "# dosti lažje že od začetka pretvoriti v np.float32 in vrednosti pretvoriti na interval [0,1]\n",
    "\n",
    "# ZGOLJ CE MISLIS DELAT Z OPENCV METODO ZA ODSTRANJEVANJE OZADJA!!!\n",
    "video = video.astype(np.float32)/255.\n",
    "print(video.dtype)"
   ]
  },
  {
   "cell_type": "markdown",
   "id": "a8cbaa99-2eff-45ba-8c38-2d662f9c2bb9",
   "metadata": {},
   "source": [
    "## Odstranjevanje ozadja"
   ]
  },
  {
   "cell_type": "markdown",
   "id": "637cb9f5-eb05-4f36-b3dd-9deff96bc7cd",
   "metadata": {},
   "source": [
    "### Preprosta ocena ozadja s povprečenjem"
   ]
  },
  {
   "cell_type": "code",
   "execution_count": null,
   "id": "83a7beed-966b-413d-b9ca-df021d7fc370",
   "metadata": {},
   "outputs": [],
   "source": [
    "slika_bg = video.mean(0)\n",
    "\n",
    "n=120\n",
    "slika = video[n]\n",
    "slika_diff = np.abs(slika-slika_bg).mean(2) # povprecje po barvah, ce imamo barve\n",
    "\n",
    "plt.figure()\n",
    "plt.subplot(221)\n",
    "plt.imshow(slika_bg)\n",
    "plt.title('ozadje')\n",
    "plt.axis('off')\n",
    "plt.subplot(222)\n",
    "plt.imshow(slika)\n",
    "plt.title(f'slika {n}')\n",
    "plt.axis('off')\n",
    "plt.subplot(223)\n",
    "plt.imshow(slika_diff)\n",
    "plt.title('slika razlik')\n",
    "plt.axis('off')\n",
    "plt.subplot(224)\n",
    "plt.hist(slika_diff.ravel(), bins=100, log=True)\n",
    "plt.title('histogram slike razlik')"
   ]
  },
  {
   "cell_type": "code",
   "execution_count": 25,
   "id": "a165ced3-5ad5-4f4e-ba40-3589f7087bee",
   "metadata": {},
   "outputs": [],
   "source": [
    "prag = 0.2\n",
    "\n",
    "plt.figure()\n",
    "for n in range(video.shape[0]):\n",
    "    slika = video[n]\n",
    "    slika_diff = np.abs(slika-slika_bg).mean(2) \n",
    "    slika_motion_seg = slika_diff>prag\n",
    "\n",
    "    plt.clf()\n",
    "    plt.imshow(slika_motion_seg)\n",
    "    plt.draw()\n",
    "    plt.waitforbuttonpress(0.01)\n",
    "\n",
    "plt.close('all')"
   ]
  },
  {
   "cell_type": "markdown",
   "id": "08e92a7e-fccd-4751-baeb-c3d427bcd7e5",
   "metadata": {},
   "source": [
    "#### Končna rešitev uporabljen v nalogi"
   ]
  },
  {
   "cell_type": "code",
   "execution_count": 21,
   "id": "f67006bd-3afe-47f8-87df-30c2a6d89885",
   "metadata": {},
   "outputs": [
    {
     "name": "stdout",
     "output_type": "stream",
     "text": [
      "sucess\n"
     ]
    }
   ],
   "source": [
    "# 1. Izračun povprečne slike ozadja\n",
    "slika_bg = video.mean(axis=0)  # Povprečje po časovni dimenziji\n",
    "\n",
    "# 2. Seznam za shranjevanje mask segmentacije\n",
    "segmentation_masks = []\n",
    "\n",
    "# 3. Parametri za segmentacijo\n",
    "threshold_value = 50  # Prag za segmentacijo\n",
    "kernel = cv2.getStructuringElement(cv2.MORPH_ELLIPSE, (5, 5))  # Jedro za morfološke operacije\n",
    "\n",
    "plt.figure()\n",
    "for n in range(video.shape[0]):\n",
    "    # Trenutna slika in razlika od ozadja\n",
    "    slika = video[n]\n",
    "    slika_diff = np.abs(slika - slika_bg).mean(axis=2)  # Povprečje po barvnih kanalih\n",
    "\n",
    "    # 4. Pragovna segmentacija\n",
    "    _, segmented = cv2.threshold(slika_diff.astype(np.uint8), threshold_value, 255, cv2.THRESH_BINARY)\n",
    "\n",
    "    # 5. Morfološke operacije za izboljšanje maske\n",
    "    segmented = cv2.morphologyEx(segmented, cv2.MORPH_CLOSE, kernel)  # Zapiranje za odpravo lukenj\n",
    "    segmented = cv2.morphologyEx(segmented, cv2.MORPH_OPEN, kernel)   # Odpiranje za odstranitev šuma\n",
    "\n",
    "    # Shrani masko\n",
    "    segmentation_masks.append(segmented)\n",
    "\n",
    "    # Vizualizacija trenutne slike, ozadja, razlike in maske\n",
    "    plt.clf()\n",
    "    plt.subplot(2, 2, 1)\n",
    "    plt.imshow(slika_bg.astype(np.uint8))\n",
    "    plt.title('Ozadje')\n",
    "    plt.axis('off')\n",
    "    plt.subplot(2, 2, 2)\n",
    "    plt.imshow(slika.astype(np.uint8))\n",
    "    plt.title(f'Slika {n}')\n",
    "    plt.axis('off')\n",
    "    plt.subplot(2, 2, 3)\n",
    "    plt.imshow(slika_diff, cmap='gray')\n",
    "    plt.title('Razlika od ozadja')\n",
    "    plt.axis('off')\n",
    "    plt.subplot(2, 2, 4)\n",
    "    plt.imshow(segmented, cmap='gray')\n",
    "    plt.title('Segmentirana maska')\n",
    "    plt.axis('off')\n",
    "    plt.draw()\n",
    "    plt.waitforbuttonpress(0.01)\n",
    "\n",
    "plt.close('all')\n",
    "\n",
    "print(\"sucess\")\n",
    "# 6. Pretvori seznam mask v numpy array, če je potrebno\n",
    "segmentation_masks_array = np.array(segmentation_masks, dtype=np.uint8)\n"
   ]
  },
  {
   "cell_type": "code",
   "execution_count": 50,
   "id": "794ab3fa-16be-4803-987b-0b96d29dfed0",
   "metadata": {},
   "outputs": [],
   "source": [
    "import pathlib\n",
    "\n",
    "output_folder = './data/segmentation_masks_hitre/'\n",
    "pathlib.Path(output_folder).mkdir(parents=True, exist_ok=True)\n",
    "\n",
    "for i, mask in enumerate(segmentation_masks):\n",
    "    output_path = f\"{output_folder}/mask_{i:04d}.png\"\n",
    "    cv2.imwrite(output_path, mask)"
   ]
  },
  {
   "cell_type": "markdown",
   "id": "4f0c9a5c-d050-40ef-9fe8-956d28c2ef87",
   "metadata": {},
   "source": [
    "## Uporaba OpenCV metode"
   ]
  },
  {
   "cell_type": "markdown",
   "id": "f7e77a28-ee43-4632-a5d2-427169f54f9e",
   "metadata": {},
   "source": [
    "### MOG2 method - ta metoda ni bila uporabljena v končni rešitvi"
   ]
  },
  {
   "cell_type": "code",
   "execution_count": 23,
   "id": "77c7c7ea-425e-46f5-829e-4539ed0d6e2c",
   "metadata": {},
   "outputs": [],
   "source": [
    "bg_sub_obj = cv2.createBackgroundSubtractorMOG2()\n",
    "segmentation_masks = []\n",
    "\n",
    "plt.figure()\n",
    "for n in range(video.shape[0]):\n",
    "    slika = np.uint8(video[n]*255)\n",
    "    # opencv je malo razvajen, hoče imeti zelo specifične tipe, da deluje pravilno\n",
    "    slika_motion_seg = bg_sub_obj.apply(slika)\n",
    "    slika_motion_bg = bg_sub_obj.getBackgroundImage()\n",
    "\n",
    "    # Segmentacija z adaptivnim pragom\n",
    "    _, segmented = cv2.threshold(slika_motion_seg, 50, 255, cv2.THRESH_BINARY)\n",
    "    \n",
    "    # Morfološke operacije za izboljšanje\n",
    "    kernel = cv2.getStructuringElement(cv2.MORPH_ELLIPSE, (5, 5))\n",
    "    segmented = cv2.morphologyEx(segmented, cv2.MORPH_CLOSE, kernel)  # Zapiranje\n",
    "\n",
    "    # Shrani masko za analizo ali nadaljnjo obdelavo\n",
    "    segmentation_masks.append(segmented)\n",
    "    \n",
    "    plt.clf()\n",
    "    plt.subplot(1,3,1)\n",
    "    plt.imshow(slika)\n",
    "    plt.title('posnetek')\n",
    "    plt.subplot(1,3,2)\n",
    "    plt.imshow(slika_motion_bg)\n",
    "    plt.title('slika ozadja')\n",
    "    plt.subplot(1,3,3)\n",
    "    plt.imshow(slika_motion_seg)\n",
    "    plt.title('segmenti gibanja')\n",
    "    plt.draw()\n",
    "    plt.waitforbuttonpress(0.01)\n",
    "\n",
    "plt.close('all')"
   ]
  },
  {
   "cell_type": "markdown",
   "id": "320b9165-9dc8-4038-b905-01edb7cfebaf",
   "metadata": {},
   "source": [
    "## Optični pretok v OpenCV"
   ]
  },
  {
   "cell_type": "markdown",
   "id": "cf62b72a-20ce-4ef5-b41a-dc13519b7ee5",
   "metadata": {},
   "source": [
    "### Iskanje kontur"
   ]
  },
  {
   "cell_type": "code",
   "execution_count": 22,
   "id": "5b3e3851-a84e-4835-9348-c82cb3c89d6a",
   "metadata": {},
   "outputs": [],
   "source": [
    "# Zbirka za konture na vsaki sliki\n",
    "filtered_contours_per_frame = []\n",
    "\n",
    "plt.figure()\n",
    "for n, mask in enumerate(segmentation_masks):\n",
    "    # Najdi konture\n",
    "    contours, _ = cv2.findContours(mask, cv2.RETR_EXTERNAL, cv2.CHAIN_APPROX_SIMPLE)\n",
    "\n",
    "    # Filtriraj konture na podlagi površine\n",
    "    min_area = 160  # Minimalna površina gibajočega elementa\n",
    "    filtered_contours = [cnt for cnt in contours if cv2.contourArea(cnt) > min_area]\n",
    "    filtered_contours_per_frame.append(filtered_contours)\n",
    "\n",
    "    # Vizualizacija\n",
    "    mask_with_contours = cv2.cvtColor(mask, cv2.COLOR_GRAY2BGR)  # Pretvori masko v RGB za risanje kontur\n",
    "    cv2.drawContours(mask_with_contours, filtered_contours, -1, (0, 255, 0), 2)  # Zeleno za konture\n",
    "    \n",
    "    plt.clf()\n",
    "    plt.subplot(121)\n",
    "    plt.imshow(mask, cmap='gray')\n",
    "    plt.title('Segmentirana maska')\n",
    "    plt.subplot(122)\n",
    "    plt.imshow(mask_with_contours)\n",
    "    plt.title('Konture')\n",
    "    plt.draw()\n",
    "    plt.waitforbuttonpress(0.01)\n",
    "\n",
    "plt.close('all')\n"
   ]
  },
  {
   "cell_type": "markdown",
   "id": "6be43fc2-c7ba-443d-9efb-492d2d8826ef",
   "metadata": {},
   "source": [
    "### Iskanje prekrivajočih kontur"
   ]
  },
  {
   "cell_type": "code",
   "execution_count": 23,
   "id": "aa9a4566-616f-485c-9fd0-c5eb4882f25f",
   "metadata": {},
   "outputs": [
    {
     "name": "stdout",
     "output_type": "stream",
     "text": [
      "Gibajoči elementi so bili uspešno povezani!\n"
     ]
    }
   ],
   "source": [
    "def rect_overlap(rect1, rect2):\n",
    "    \"\"\"Preveri, ali se dva pravokotnika prekrivata.\"\"\"\n",
    "    x1, y1, w1, h1 = rect1\n",
    "    x2, y2, w2, h2 = rect2\n",
    "    return not (x1 + w1 < x2 or x2 + w2 < x1 or y1 + h1 < y2 or y2 + h2 < y1)\n",
    "\n",
    "# Seznam za shranjevanje povezanih gibajočih elementov\n",
    "moving_elements = []\n",
    "\n",
    "# Prvi okvir\n",
    "prev_contours = filtered_contours_per_frame[0]\n",
    "\n",
    "# Določitev gibajočih elementov skozi sličice\n",
    "for i in range(1, len(filtered_contours_per_frame)):\n",
    "    curr_contours = filtered_contours_per_frame[i]\n",
    "    \n",
    "    # Seznam za trenutno sličico\n",
    "    curr_elements = []\n",
    "    \n",
    "    for curr_cnt in curr_contours:\n",
    "        curr_rect = cv2.boundingRect(curr_cnt)\n",
    "        matched = False\n",
    "        \n",
    "        for prev_cnt in prev_contours:\n",
    "            prev_rect = cv2.boundingRect(prev_cnt)\n",
    "            \n",
    "            if rect_overlap(curr_rect, prev_rect):\n",
    "                # Če se prekrivata, poveži kot isti gibajoči element\n",
    "                matched = True\n",
    "                break\n",
    "        \n",
    "        # Dodaj trenutni element (lahko ga kasneje označiš kot nov, če ni povezave)\n",
    "        curr_elements.append(curr_cnt)\n",
    "    \n",
    "    # Posodobi konture za naslednji korak\n",
    "    prev_contours = curr_contours\n",
    "\n",
    "    # Shrani trenutne elemente\n",
    "    moving_elements.append(curr_elements)\n",
    "\n",
    "print(\"Gibajoči elementi so bili uspešno povezani!\")"
   ]
  },
  {
   "cell_type": "code",
   "execution_count": 24,
   "id": "4f9ff579-5301-41e2-9e8d-07fc3cbda7ed",
   "metadata": {},
   "outputs": [],
   "source": [
    "plt.figure()\n",
    "for i, elements in enumerate(moving_elements):\n",
    "    mask_with_contours = np.zeros_like(segmentation_masks[i])\n",
    "    for cnt in elements:\n",
    "        cv2.drawContours(mask_with_contours, [cnt], -1, 255, -1)  # Bela za gibajoče elemente\n",
    "    \n",
    "    plt.clf()\n",
    "    plt.imshow(mask_with_contours, cmap='gray')\n",
    "    plt.title(f'Gibajoči elementi v sličici {i}')\n",
    "    plt.draw()\n",
    "    plt.waitforbuttonpress(0.01)\n",
    "\n",
    "plt.close('all')\n"
   ]
  },
  {
   "cell_type": "markdown",
   "id": "d7fb5795-f339-44f3-a00f-987b59192cbc",
   "metadata": {},
   "source": [
    "### Pridobivanje analiz"
   ]
  },
  {
   "cell_type": "code",
   "execution_count": 25,
   "id": "d9aba5f0-346e-4ef7-acc1-84fd002cf408",
   "metadata": {},
   "outputs": [],
   "source": [
    "# željene analize:\n",
    "analize = []\n",
    "# Inicializacija optičnega pretoka za vsak par sličic\n",
    "flow_maps = []\n",
    "for n in range(video.shape[0] - 1):\n",
    "    slika_0 = (video[n] * 255).mean(2).astype(np.uint8)\n",
    "    slika_1 = (video[n + 1] * 255).mean(2).astype(np.uint8)\n",
    "    flow = cv2.calcOpticalFlowFarneback(slika_0, slika_1, None, 0.5, 3, 15, 3, 5, 1.2, 0)\n",
    "    flow_maps.append(flow)\n",
    "\n",
    "# Povprečen optični pretok za gibajoče elemente\n",
    "plt.figure()\n",
    "for i, (elements, flow) in enumerate(zip(moving_elements, flow_maps)):\n",
    "    # Inicializiraj barvno sliko (HSV format)\n",
    "    h, w = flow.shape[:2]\n",
    "    hsv_img = np.zeros((h, w, 3), dtype=np.float32)\n",
    "    hsv_img[..., 1] = 1  # Saturation na maksimum\n",
    "\n",
    "    for cnt in elements:\n",
    "        # Ustvari masko za trenutno konturo\n",
    "        mask = np.zeros((h, w), dtype=np.uint8)\n",
    "        cv2.drawContours(mask, [cnt], -1, 255, -1)\n",
    "\n",
    "        # Povprečni dx, dy znotraj konture\n",
    "        dx_mean = np.mean(flow[..., 0][mask == 255])\n",
    "        dy_mean = np.mean(flow[..., 1][mask == 255])\n",
    "\n",
    "        # Pretvorba v amplitudo in smer\n",
    "        amplitude = np.sqrt(dx_mean**2 + dy_mean**2)\n",
    "        direction = np.arctan2(dy_mean, dx_mean)  # Smer v radianih\n",
    "\n",
    "        # Pretvorba v barvno kodacijo (Hue in Value)\n",
    "        hue = (direction * 180 / np.pi / 2) % 180  # Pretvori radiane v stopinje (Hue)\n",
    "        value = np.clip(amplitude / amplitude.max(), 0, 1)  # Normalizacija amplitude\n",
    "\n",
    "        # Barvna kodacija v območju konture\n",
    "        hsv_img[..., 0][mask == 255] = hue  # Hue\n",
    "        hsv_img[..., 2][mask == 255] = value  # Value\n",
    "\n",
    "    # Pretvorba iz HSV v RGB za prikaz\n",
    "    rgb_img = cv2.cvtColor((hsv_img * 255).astype(np.uint8), cv2.COLOR_HSV2RGB)\n",
    "    analize.append(rgb_img)\n",
    "\n",
    "    # Vizualizacija\n",
    "    plt.clf()\n",
    "    plt.imshow(rgb_img)\n",
    "    plt.title(f'Amplituda in smer gibanja v sličici {i}')\n",
    "    plt.axis('off')\n",
    "    plt.draw()\n",
    "    plt.waitforbuttonpress(0.01)\n",
    "\n",
    "plt.close('all')"
   ]
  },
  {
   "cell_type": "code",
   "execution_count": 21,
   "id": "1bf9c912-c6eb-40a0-9ff1-17144d03a635",
   "metadata": {},
   "outputs": [
    {
     "name": "stdout",
     "output_type": "stream",
     "text": [
      "Vse analize so bile shranjene v mapo ./data/analize\n"
     ]
    }
   ],
   "source": [
    "import os\n",
    "\n",
    "# Ustvari mapo, če ne obstaja\n",
    "output_dir = './data/analize'\n",
    "os.makedirs(output_dir, exist_ok=True)\n",
    "\n",
    "# Shrani maske\n",
    "for i, analiza in enumerate(analize):\n",
    "    # Definiraj ime datoteke\n",
    "    analiza_path = os.path.join(output_dir, f'analiza_{i:03d}.png')\n",
    "    \n",
    "    # Shrani masko kot sliko\n",
    "    cv2.imwrite(analiza_path, analiza)\n",
    "\n",
    "print(f\"Vse analize so bile shranjene v mapo {output_dir}\")"
   ]
  },
  {
   "cell_type": "markdown",
   "id": "5047698a-a307-427d-9a2b-668065fbf476",
   "metadata": {},
   "source": [
    "## KREACIJA FUNKCIJE:"
   ]
  },
  {
   "cell_type": "markdown",
   "id": "b2c3ac05-5a9f-4d1a-b6dd-43cced071243",
   "metadata": {},
   "source": [
    "##### Vsi videoposnetki (podani v primeru, in lastni) so bili podani v spodnjo funkcijo in v končno združeno funkcijo."
   ]
  },
  {
   "cell_type": "code",
   "execution_count": 42,
   "id": "5d27c5a0-08d7-4688-ac45-ea2be702ab6a",
   "metadata": {},
   "outputs": [],
   "source": [
    "test_video = pathlib.Path('./data/vid1/')\n",
    "slike_poti = test_video.glob('frame*.jpg')"
   ]
  },
  {
   "cell_type": "code",
   "execution_count": 5,
   "id": "b54ba00d-e883-4371-b27a-c1a7902f450a",
   "metadata": {},
   "outputs": [],
   "source": [
    "test_video_3 = pathlib.Path('./data/porocilo_video/')\n",
    "slike_poti_3 = test_video_3.glob('frame*.jpg')"
   ]
  },
  {
   "cell_type": "code",
   "execution_count": 19,
   "id": "82487280-d7a9-4ab6-aac2-ba5142a8cc4d",
   "metadata": {},
   "outputs": [],
   "source": [
    "test_video_4 = pathlib.Path('./data/porocilo_drugi_video//')\n",
    "slike_poti_4 = test_video_4.glob('frame*.jpg')"
   ]
  },
  {
   "cell_type": "code",
   "execution_count": 10,
   "id": "49869b46-5a60-4ab3-88d3-339939d0ea5f",
   "metadata": {},
   "outputs": [],
   "source": [
    "test_synth = pathlib.Path('./data/synth_vid1/')\n",
    "slike_poti_synth = test_synth.glob('frame*.jpg')"
   ]
  },
  {
   "cell_type": "code",
   "execution_count": 28,
   "id": "ef91ce27-22bd-47b5-a3ab-381de556c78e",
   "metadata": {},
   "outputs": [],
   "source": [
    "test_synth_2 = pathlib.Path('./data/synth_vid2/')\n",
    "slike_poti_synth_2 = test_synth_2.glob('frame*.jpg')"
   ]
  },
  {
   "cell_type": "code",
   "execution_count": 12,
   "id": "ddf96c61-b3e1-4404-815e-815eeb0cb668",
   "metadata": {},
   "outputs": [],
   "source": [
    "def rect_overlap(rect1, rect2):\n",
    "    \"\"\"Preveri, ali se dva pravokotnika prekrivata.\"\"\"\n",
    "    x1, y1, w1, h1 = rect1\n",
    "    x2, y2, w2, h2 = rect2\n",
    "    return not (x1 + w1 < x2 or x2 + w2 < x1 or y1 + h1 < y2 or y2 + h2 < y1)"
   ]
  },
  {
   "cell_type": "code",
   "execution_count": 13,
   "id": "a6025954-4919-4125-b808-5e9a166e3a9e",
   "metadata": {},
   "outputs": [],
   "source": [
    "def analiziraj_opticni_pretok(video: np.ndarray) -> list[np.ndarray]:\n",
    "    #pot_do_posnetka = pathlib.Path('./data/vid1/')\n",
    "    #slike_poti = video.glob('frame*.jpg')\n",
    "    # te posnetke lahko uredimo po abecednem vrstnem redu, da dobimo ustrezno video sekvenco\n",
    "    slike_poti = sorted(video)\n",
    "    video_seq = []\n",
    "    for pot in slike_poti:\n",
    "        slika = plt.imread(pot)\n",
    "        video_seq.append(slika)\n",
    "    video = np.array(video_seq)\n",
    "\n",
    "\n",
    "    # 1. Izračun povprečne slike ozadja\n",
    "    slika_bg = video.mean(axis=0)  # Povprečje po časovni dimenziji\n",
    "    \n",
    "    # 2. Seznam za shranjevanje mask segmentacije\n",
    "    segmentation_masks = []\n",
    "    \n",
    "    # 3. Parametri za segmentacijo\n",
    "    threshold_value = 50  # Prag za segmentacijo\n",
    "    kernel = cv2.getStructuringElement(cv2.MORPH_ELLIPSE, (5, 5))  # Jedro za morfološke operacije\n",
    "\n",
    "    for n in range(video.shape[0]):\n",
    "        # Trenutna slika in razlika od ozadja\n",
    "        slika = video[n]\n",
    "        slika_diff = np.abs(slika - slika_bg).mean(axis=2)  # Povprečje po barvnih kanalih\n",
    "    \n",
    "        # 4. Pragovna segmentacija\n",
    "        _, segmented = cv2.threshold(slika_diff.astype(np.uint8), threshold_value, 255, cv2.THRESH_BINARY)\n",
    "    \n",
    "        # 5. Morfološke operacije za izboljšanje maske\n",
    "        segmented = cv2.morphologyEx(segmented, cv2.MORPH_CLOSE, kernel)  # Zapiranje za odpravo lukenj\n",
    "        segmented = cv2.morphologyEx(segmented, cv2.MORPH_OPEN, kernel)   # Odpiranje za odstranitev šuma\n",
    "    \n",
    "        # Shrani masko\n",
    "        segmentation_masks.append(segmented)\n",
    "\n",
    "    # Zbirka za konture na vsaki sliki\n",
    "    filtered_contours_per_frame = []\n",
    "    \n",
    "    for n, mask in enumerate(segmentation_masks):\n",
    "        # Najdi konture\n",
    "        contours, _ = cv2.findContours(mask, cv2.RETR_EXTERNAL, cv2.CHAIN_APPROX_SIMPLE)\n",
    "    \n",
    "        # Filtriraj konture na podlagi površine\n",
    "        min_area = 160  # Minimalna površina gibajočega elementa\n",
    "        filtered_contours = [cnt for cnt in contours if cv2.contourArea(cnt) > min_area]\n",
    "        filtered_contours_per_frame.append(filtered_contours)\n",
    "\n",
    "    # Seznam za shranjevanje povezanih gibajočih elementov\n",
    "    moving_elements = []\n",
    "    \n",
    "    # Prvi okvir\n",
    "    prev_contours = filtered_contours_per_frame[0]\n",
    "    \n",
    "    # Določitev gibajočih elementov skozi sličice\n",
    "    for i in range(1, len(filtered_contours_per_frame)):\n",
    "        curr_contours = filtered_contours_per_frame[i]\n",
    "        \n",
    "        # Seznam za trenutno sličico\n",
    "        curr_elements = []\n",
    "        \n",
    "        for curr_cnt in curr_contours:\n",
    "            curr_rect = cv2.boundingRect(curr_cnt)\n",
    "            matched = False\n",
    "            \n",
    "            for prev_cnt in prev_contours:\n",
    "                prev_rect = cv2.boundingRect(prev_cnt)\n",
    "                \n",
    "                if rect_overlap(curr_rect, prev_rect):\n",
    "                    # Če se prekrivata, poveži kot isti gibajoči element\n",
    "                    matched = True\n",
    "                    break\n",
    "            \n",
    "            # Dodaj trenutni element (lahko ga kasneje označiš kot nov, če ni povezave)\n",
    "            curr_elements.append(curr_cnt)\n",
    "        \n",
    "        # Posodobi konture za naslednji korak\n",
    "        prev_contours = curr_contours\n",
    "    \n",
    "        # Shrani trenutne elemente\n",
    "        moving_elements.append(curr_elements)\n",
    "    \n",
    "    print(\"Gibajoči elementi so bili uspešno povezani!\")\n",
    "\n",
    "    # željene analize:\n",
    "    analize = []\n",
    "    # Inicializacija optičnega pretoka za vsak par sličic\n",
    "    flow_maps = []\n",
    "    for n in range(video.shape[0] - 1):\n",
    "        slika_0 = (video[n] * 255).mean(2).astype(np.uint8)\n",
    "        slika_1 = (video[n + 1] * 255).mean(2).astype(np.uint8)\n",
    "        flow = cv2.calcOpticalFlowFarneback(slika_0, slika_1, None, 0.5, 3, 15, 3, 5, 1.2, 0)\n",
    "        flow_maps.append(flow)\n",
    "    \n",
    "    # Povprečen optični pretok za gibajoče elemente\n",
    "    for i, (elements, flow) in enumerate(zip(moving_elements, flow_maps)):\n",
    "        # Inicializiraj barvno sliko (HSV format)\n",
    "        h, w = flow.shape[:2]\n",
    "        hsv_img = np.zeros((h, w, 3), dtype=np.float32)\n",
    "        hsv_img[..., 1] = 1  # Saturation na maksimum\n",
    "    \n",
    "        for cnt in elements:\n",
    "            # Ustvari masko za trenutno konturo\n",
    "            mask = np.zeros((h, w), dtype=np.uint8)\n",
    "            cv2.drawContours(mask, [cnt], -1, 255, -1)\n",
    "    \n",
    "            # Povprečni dx, dy znotraj konture\n",
    "            dx_mean = np.mean(flow[..., 0][mask == 255])\n",
    "            dy_mean = np.mean(flow[..., 1][mask == 255])\n",
    "    \n",
    "            # Pretvorba v amplitudo in smer\n",
    "            amplitude = np.sqrt(dx_mean**2 + dy_mean**2)\n",
    "            direction = np.arctan2(dy_mean, dx_mean)  # Smer v radianih\n",
    "    \n",
    "            # Pretvorba v barvno kodacijo (Hue in Value)\n",
    "            hue = (direction * 180 / np.pi / 2) % 180  # Pretvori radiane v stopinje (Hue)\n",
    "            value = np.clip(amplitude / amplitude.max(), 0, 1)  # Normalizacija amplitude\n",
    "    \n",
    "            # Barvna kodacija v območju konture\n",
    "            hsv_img[..., 0][mask == 255] = hue  # Hue\n",
    "            hsv_img[..., 2][mask == 255] = value  # Value\n",
    "    \n",
    "        # Pretvorba iz HSV v RGB za prikaz\n",
    "        rgb_img = cv2.cvtColor((hsv_img * 255).astype(np.uint8), cv2.COLOR_HSV2RGB)\n",
    "        analize.append(rgb_img)\n",
    "\n",
    "    return analize"
   ]
  },
  {
   "cell_type": "code",
   "execution_count": 43,
   "id": "d7e298c5-33c9-4c2a-9e0d-0d61c93aed74",
   "metadata": {},
   "outputs": [
    {
     "name": "stdout",
     "output_type": "stream",
     "text": [
      "Gibajoči elementi so bili uspešno povezani!\n"
     ]
    }
   ],
   "source": [
    "dobljene_analize = analiziraj_opticni_pretok(slike_poti)"
   ]
  },
  {
   "cell_type": "code",
   "execution_count": 63,
   "id": "5950df7e-7909-45df-aab6-62a99c42150f",
   "metadata": {},
   "outputs": [
    {
     "name": "stdout",
     "output_type": "stream",
     "text": [
      "Gibajoči elementi so bili uspešno povezani!\n"
     ]
    }
   ],
   "source": [
    "dobljene_analize_2 = analiziraj_opticni_pretok(slike_poti_2)"
   ]
  },
  {
   "cell_type": "code",
   "execution_count": 8,
   "id": "8e6a0b59-27ee-49ed-8833-00c93874d67d",
   "metadata": {},
   "outputs": [
    {
     "name": "stdout",
     "output_type": "stream",
     "text": [
      "Gibajoči elementi so bili uspešno povezani!\n"
     ]
    }
   ],
   "source": [
    "dobljene_analize_3 = analiziraj_opticni_pretok(slike_poti_3)"
   ]
  },
  {
   "cell_type": "code",
   "execution_count": 20,
   "id": "af0759a9-df43-49ea-8518-d01076330801",
   "metadata": {},
   "outputs": [
    {
     "name": "stdout",
     "output_type": "stream",
     "text": [
      "Gibajoči elementi so bili uspešno povezani!\n"
     ]
    }
   ],
   "source": [
    "dobljene_analize_4 = analiziraj_opticni_pretok(slike_poti_4)"
   ]
  },
  {
   "cell_type": "code",
   "execution_count": 14,
   "id": "3882e66b-9df6-4b6a-b3f8-f6893a7b5590",
   "metadata": {},
   "outputs": [
    {
     "name": "stdout",
     "output_type": "stream",
     "text": [
      "Gibajoči elementi so bili uspešno povezani!\n"
     ]
    }
   ],
   "source": [
    "dobljene_analize_synth = analiziraj_opticni_pretok(slike_poti_synth)"
   ]
  },
  {
   "cell_type": "code",
   "execution_count": 17,
   "id": "5bf1ff75-e7a8-4eeb-91c7-174a373f304b",
   "metadata": {},
   "outputs": [
    {
     "name": "stdout",
     "output_type": "stream",
     "text": [
      "Gibajoči elementi so bili uspešno povezani!\n"
     ]
    }
   ],
   "source": [
    "dobljene_analize_synth_2 = analiziraj_opticni_pretok(slike_poti_synth_2)"
   ]
  },
  {
   "cell_type": "code",
   "execution_count": 30,
   "id": "57810c9d-27d7-4a48-889d-22ec33230221",
   "metadata": {},
   "outputs": [
    {
     "name": "stdout",
     "output_type": "stream",
     "text": [
      "Vse analize funkcije so bile shranjene v mapo ./data/analize_iz_fun_synth_2_druga\n"
     ]
    }
   ],
   "source": [
    "# Ustvari mapo, če ne obstaja\n",
    "output_dir = './data/analize_iz_fun_synth_2_druga'\n",
    "os.makedirs(output_dir, exist_ok=True)\n",
    "\n",
    "# Shrani maske\n",
    "for i, analiza_fun in enumerate(dobljene_analize_synth_2_0):\n",
    "    # Definiraj ime datoteke\n",
    "    analiza_path = os.path.join(output_dir, f'analiza_fun_{i:03d}.png')\n",
    "    \n",
    "    # Shrani masko kot sliko\n",
    "    cv2.imwrite(analiza_path, analiza_fun)\n",
    "\n",
    "print(f\"Vse analize funkcije so bile shranjene v mapo {output_dir}\")"
   ]
  },
  {
   "cell_type": "markdown",
   "id": "91fa5324-b6db-439a-8021-c082b4b6d16b",
   "metadata": {},
   "source": [
    "# KONČNA SKUPNA FUNKCIJA"
   ]
  },
  {
   "cell_type": "code",
   "execution_count": 26,
   "id": "86320b78-5b17-4d60-895b-982d139c345c",
   "metadata": {},
   "outputs": [],
   "source": [
    "def analiziraj_opticni_pretok_2(video: np.ndarray) -> list[np.ndarray]:\n",
    "    slike_poti = sorted(video)\n",
    "    video_seq = []\n",
    "    for pot in slike_poti:\n",
    "        slika = plt.imread(pot)\n",
    "        video_seq.append(slika)\n",
    "    video = np.array(video_seq)\n",
    "\n",
    "    # 1. Izračun povprečne slike ozadja\n",
    "    slika_bg = video.mean(axis=0)  # Povprečje po časovni dimenziji\n",
    "\n",
    "    # 2. Seznam za shranjevanje mask segmentacije\n",
    "    segmentation_masks = []\n",
    "\n",
    "    # 3. Parametri za segmentacijo\n",
    "    threshold_value = 50  # Prag za segmentacijo\n",
    "    kernel = cv2.getStructuringElement(cv2.MORPH_ELLIPSE, (5, 5))  # Jedro za morfološke operacije\n",
    "\n",
    "    for n in range(video.shape[0]):\n",
    "        # Trenutna slika in razlika od ozadja\n",
    "        slika = video[n]\n",
    "        slika_diff = np.abs(slika - slika_bg).mean(axis=2)  # Povprečje po barvnih kanalih\n",
    "\n",
    "        # 4. Pragovna segmentacija\n",
    "        _, segmented = cv2.threshold(slika_diff.astype(np.uint8), threshold_value, 255, cv2.THRESH_BINARY)\n",
    "\n",
    "        # 5. Morfološke operacije za izboljšanje maske\n",
    "        segmented = cv2.morphologyEx(segmented, cv2.MORPH_CLOSE, kernel)  # Zapiranje za odpravo lukenj\n",
    "        segmented = cv2.morphologyEx(segmented, cv2.MORPH_OPEN, kernel)  # Odpiranje za odstranitev šuma\n",
    "\n",
    "        # Shrani masko\n",
    "        segmentation_masks.append(segmented)\n",
    "\n",
    "    # Zbirka za konture na vsaki sliki\n",
    "    filtered_contours_per_frame = []\n",
    "\n",
    "    for n, mask in enumerate(segmentation_masks):\n",
    "        # Najdi konture\n",
    "        contours, _ = cv2.findContours(mask, cv2.RETR_EXTERNAL, cv2.CHAIN_APPROX_SIMPLE)\n",
    "\n",
    "        # Filtriraj konture na podlagi površine\n",
    "        min_area = 160  # Minimalna površina gibajočega elementa\n",
    "        filtered_contours = [cnt for cnt in contours if cv2.contourArea(cnt) > min_area]\n",
    "        filtered_contours_per_frame.append(filtered_contours)\n",
    "\n",
    "    # Seznam za shranjevanje povezanih gibajočih elementov\n",
    "    moving_elements = []\n",
    "\n",
    "    # Prvi okvir\n",
    "    prev_contours = filtered_contours_per_frame[0]\n",
    "\n",
    "    # Določitev gibajočih elementov skozi sličice\n",
    "    for i in range(1, len(filtered_contours_per_frame)):\n",
    "        curr_contours = filtered_contours_per_frame[i]\n",
    "\n",
    "        # Seznam za trenutno sličico\n",
    "        curr_elements = []\n",
    "\n",
    "        for curr_cnt in curr_contours:\n",
    "            curr_rect = cv2.boundingRect(curr_cnt)\n",
    "            matched = False\n",
    "\n",
    "            for prev_cnt in prev_contours:\n",
    "                prev_rect = cv2.boundingRect(prev_cnt)\n",
    "\n",
    "                # Preveri, ali se pravokotnika prekrivata\n",
    "                if not (curr_rect[0] + curr_rect[2] < prev_rect[0] or\n",
    "                        prev_rect[0] + prev_rect[2] < curr_rect[0] or\n",
    "                        curr_rect[1] + curr_rect[3] < prev_rect[1] or\n",
    "                        prev_rect[1] + prev_rect[3] < curr_rect[1]):\n",
    "                    matched = True\n",
    "                    break\n",
    "\n",
    "            # Dodaj trenutni element (lahko ga kasneje označiš kot nov, če ni povezave)\n",
    "            curr_elements.append(curr_cnt)\n",
    "\n",
    "        # Posodobi konture za naslednji korak\n",
    "        prev_contours = curr_contours\n",
    "\n",
    "        # Shrani trenutne elemente\n",
    "        moving_elements.append(curr_elements)\n",
    "\n",
    "    print(\"Gibajoči elementi so bili uspešno povezani!\")\n",
    "\n",
    "    # Željene analize:\n",
    "    analize = []\n",
    "    # Inicializacija optičnega pretoka za vsak par sličic\n",
    "    flow_maps = []\n",
    "    for n in range(video.shape[0] - 1):\n",
    "        slika_0 = (video[n] * 255).mean(2).astype(np.uint8)\n",
    "        slika_1 = (video[n + 1] * 255).mean(2).astype(np.uint8)\n",
    "        flow = cv2.calcOpticalFlowFarneback(slika_0, slika_1, None, 0.5, 3, 15, 3, 5, 1.2, 0)\n",
    "        flow_maps.append(flow)\n",
    "\n",
    "    # Povprečen optični pretok za gibajoče elemente\n",
    "    for i, (elements, flow) in enumerate(zip(moving_elements, flow_maps)):\n",
    "        # Inicializiraj barvno sliko (HSV format)\n",
    "        h, w = flow.shape[:2]\n",
    "        hsv_img = np.zeros((h, w, 3), dtype=np.float32)\n",
    "        hsv_img[..., 1] = 1  # Saturation na maksimum\n",
    "\n",
    "        for cnt in elements:\n",
    "            # Ustvari masko za trenutno konturo\n",
    "            mask = np.zeros((h, w), dtype=np.uint8)\n",
    "            cv2.drawContours(mask, [cnt], -1, 255, -1)\n",
    "\n",
    "            # Povprečni dx, dy znotraj konture\n",
    "            dx_mean = np.mean(flow[..., 0][mask == 255])\n",
    "            dy_mean = np.mean(flow[..., 1][mask == 255])\n",
    "\n",
    "            # Pretvorba v amplitudo in smer\n",
    "            amplitude = np.sqrt(dx_mean ** 2 + dy_mean ** 2)\n",
    "            direction = np.arctan2(dy_mean, dx_mean)  # Smer v radianih\n",
    "\n",
    "            # Pretvorba v barvno kodacijo (Hue in Value)\n",
    "            hue = (direction * 180 / np.pi / 2) % 180  # Pretvori radiane v stopinje (Hue)\n",
    "            value = np.clip(amplitude / amplitude.max(), 0, 1)  # Normalizacija amplitude\n",
    "\n",
    "            # Barvna kodacija v območju konture\n",
    "            hsv_img[..., 0][mask == 255] = hue  # Hue\n",
    "            hsv_img[..., 2][mask == 255] = value  # Value\n",
    "\n",
    "        # Pretvorba iz HSV v RGB za prikaz\n",
    "        rgb_img = cv2.cvtColor((hsv_img * 255).astype(np.uint8), cv2.COLOR_HSV2RGB)\n",
    "        analize.append(rgb_img)\n",
    "\n",
    "    return analize\n"
   ]
  },
  {
   "cell_type": "code",
   "execution_count": 29,
   "id": "7565bc21-4993-48b0-8643-f2d05efe4e4f",
   "metadata": {},
   "outputs": [
    {
     "name": "stdout",
     "output_type": "stream",
     "text": [
      "Gibajoči elementi so bili uspešno povezani!\n"
     ]
    }
   ],
   "source": [
    "dobljene_analize_synth_2_0 = analiziraj_opticni_pretok_2(slike_poti_synth_2)"
   ]
  },
  {
   "cell_type": "markdown",
   "id": "e8c4d784-f147-4a32-b509-73c375783570",
   "metadata": {},
   "source": [
    "## Koda za obdelavo videoposnetka in pretvorbo v začetno zaporedje slik"
   ]
  },
  {
   "cell_type": "code",
   "execution_count": null,
   "id": "daf72f00-7bb4-4fd5-b4a2-3cc16d78e8b3",
   "metadata": {},
   "outputs": [],
   "source": [
    "import cv2\n",
    "import os\n",
    "\n",
    "def video_to_frames(video_path, output_folder, resize_dim=None):\n",
    "    # Ustvari mapo, če še ne obstaja\n",
    "    os.makedirs(output_folder, exist_ok=True)\n",
    "\n",
    "    # Odpri video\n",
    "    video = cv2.VideoCapture(video_path)\n",
    "    frame_count = 0\n",
    "\n",
    "    while True:\n",
    "        ret, frame = video.read()\n",
    "        if not ret:  # Ni več okvirjev za prebrati\n",
    "            break\n",
    "\n",
    "        # Če je določena dimenzija, spremeni velikost okvirja\n",
    "        if resize_dim:\n",
    "            frame = cv2.resize(frame, resize_dim)\n",
    "\n",
    "        # Shrani okvir kot sliko\n",
    "        frame_path = os.path.join(output_folder, f\"frame_{frame_count:03d}.jpg\")\n",
    "        cv2.imwrite(frame_path, frame)\n",
    "        frame_count += 1\n",
    "\n",
    "    video.release()\n",
    "    print(f\"Video je razdeljen na {frame_count} slik, shranjenih v {output_folder}\")"
   ]
  },
  {
   "cell_type": "code",
   "execution_count": null,
   "id": "9d1bf016-4e4f-435e-8f22-b968cd7b34be",
   "metadata": {},
   "outputs": [],
   "source": [
    "# Pot do MP4 videa in mapo za shranjevanje slik\n",
    "video_path = \"ZaporedjeSlik/data/projekt_drugi_video.mp4\"  # Zamenjaj z dejansko potjo do videa\n",
    "output_folder = \"ZaporedjeSlik/data/porocilo_drugi_video\"  # Izberite izhodno mapo za slike\n",
    "\n",
    "# Pokliči funkcijo z opcijsko spremembo velikosti okvirjev\n",
    "video_to_frames(video_path, output_folder, resize_dim=(640, 480))"
   ]
  }
 ],
 "metadata": {
  "kernelspec": {
   "display_name": "URVRV",
   "language": "python",
   "name": "urvrv"
  },
  "language_info": {
   "codemirror_mode": {
    "name": "ipython",
    "version": 3
   },
   "file_extension": ".py",
   "mimetype": "text/x-python",
   "name": "python",
   "nbconvert_exporter": "python",
   "pygments_lexer": "ipython3",
   "version": "3.12.7"
  }
 },
 "nbformat": 4,
 "nbformat_minor": 5
}
